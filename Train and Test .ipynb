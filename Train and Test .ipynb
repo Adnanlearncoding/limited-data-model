{
 "cells": [
  {
   "cell_type": "markdown",
   "id": "37572592",
   "metadata": {},
   "source": [
    "# regression models both linear and non linear  are used to  pridict a real value."
   ]
  },
  {
   "cell_type": "markdown",
   "id": "3af7f140",
   "metadata": {},
   "source": [
    "    #### Types of machine learning regression models\n",
    "    \n",
    "    linear:\n",
    "    \n",
    "    simple linear regression \n",
    "    \n",
    "    multiple linear regression\n",
    "    \n",
    "    polynomial regression\n",
    "    \n",
    "    non lineaar:\n",
    "    \n",
    "    support vector regression\n",
    "    \n",
    "    decision tree regression \n",
    "    \n",
    "    random forest regression\n",
    "    "
   ]
  },
  {
   "cell_type": "markdown",
   "id": "87125ede",
   "metadata": {},
   "source": [
    "# Steps"
   ]
  },
  {
   "cell_type": "markdown",
   "id": "40d718bb",
   "metadata": {},
   "source": [
    "from sklearn.model_selection import train_test_split\n",
    "\n",
    "from sklearn.linear_model import LinearRegression\n",
    "\n",
    "then creat object\n",
    "\n",
    "then fit object or model\n",
    "\n",
    "graph\n",
    "\n",
    "check the scores ,mean actual and predicted value \n",
    "\n",
    "but here is multiple regression"
   ]
  },
  {
   "cell_type": "code",
   "execution_count": 12,
   "id": "e2da2c38",
   "metadata": {},
   "outputs": [],
   "source": [
    "import pandas as pd\n",
    "import numpy as np\n",
    "import matplotlib.pyplot as plt\n",
    "%matplotlib inline"
   ]
  },
  {
   "cell_type": "code",
   "execution_count": 2,
   "id": "45851952",
   "metadata": {},
   "outputs": [],
   "source": [
    "s_sales =pd.read_csv(r\"C:\\Users\\Ali Mir\\Desktop\\archive.zip\")"
   ]
  },
  {
   "cell_type": "code",
   "execution_count": 3,
   "id": "3a8b3ef2",
   "metadata": {},
   "outputs": [
    {
     "data": {
      "text/html": [
       "<div>\n",
       "<style scoped>\n",
       "    .dataframe tbody tr th:only-of-type {\n",
       "        vertical-align: middle;\n",
       "    }\n",
       "\n",
       "    .dataframe tbody tr th {\n",
       "        vertical-align: top;\n",
       "    }\n",
       "\n",
       "    .dataframe thead th {\n",
       "        text-align: right;\n",
       "    }\n",
       "</style>\n",
       "<table border=\"1\" class=\"dataframe\">\n",
       "  <thead>\n",
       "    <tr style=\"text-align: right;\">\n",
       "      <th></th>\n",
       "      <th>Store ID</th>\n",
       "      <th>Store_Area</th>\n",
       "      <th>Items_Available</th>\n",
       "      <th>Daily_Customer_Count</th>\n",
       "      <th>Store_Sales</th>\n",
       "    </tr>\n",
       "  </thead>\n",
       "  <tbody>\n",
       "    <tr>\n",
       "      <th>0</th>\n",
       "      <td>1</td>\n",
       "      <td>1659</td>\n",
       "      <td>1961</td>\n",
       "      <td>530</td>\n",
       "      <td>66490</td>\n",
       "    </tr>\n",
       "    <tr>\n",
       "      <th>1</th>\n",
       "      <td>2</td>\n",
       "      <td>1461</td>\n",
       "      <td>1752</td>\n",
       "      <td>210</td>\n",
       "      <td>39820</td>\n",
       "    </tr>\n",
       "    <tr>\n",
       "      <th>2</th>\n",
       "      <td>3</td>\n",
       "      <td>1340</td>\n",
       "      <td>1609</td>\n",
       "      <td>720</td>\n",
       "      <td>54010</td>\n",
       "    </tr>\n",
       "    <tr>\n",
       "      <th>3</th>\n",
       "      <td>4</td>\n",
       "      <td>1451</td>\n",
       "      <td>1748</td>\n",
       "      <td>620</td>\n",
       "      <td>53730</td>\n",
       "    </tr>\n",
       "    <tr>\n",
       "      <th>4</th>\n",
       "      <td>5</td>\n",
       "      <td>1770</td>\n",
       "      <td>2111</td>\n",
       "      <td>450</td>\n",
       "      <td>46620</td>\n",
       "    </tr>\n",
       "  </tbody>\n",
       "</table>\n",
       "</div>"
      ],
      "text/plain": [
       "   Store ID   Store_Area  Items_Available  Daily_Customer_Count  Store_Sales\n",
       "0          1        1659             1961                   530        66490\n",
       "1          2        1461             1752                   210        39820\n",
       "2          3        1340             1609                   720        54010\n",
       "3          4        1451             1748                   620        53730\n",
       "4          5        1770             2111                   450        46620"
      ]
     },
     "execution_count": 3,
     "metadata": {},
     "output_type": "execute_result"
    }
   ],
   "source": [
    "s_sales.head()"
   ]
  },
  {
   "cell_type": "code",
   "execution_count": 4,
   "id": "d8c05c37",
   "metadata": {},
   "outputs": [
    {
     "data": {
      "text/plain": [
       "Store ID                0\n",
       "Store_Area              0\n",
       "Items_Available         0\n",
       "Daily_Customer_Count    0\n",
       "Store_Sales             0\n",
       "dtype: int64"
      ]
     },
     "execution_count": 4,
     "metadata": {},
     "output_type": "execute_result"
    }
   ],
   "source": [
    "s_sales.isnull().sum()"
   ]
  },
  {
   "cell_type": "code",
   "execution_count": 5,
   "id": "0f1a130b",
   "metadata": {},
   "outputs": [],
   "source": [
    "#model and object\n",
    "from sklearn.linear_model import LinearRegression\n",
    "model = LinearRegression()"
   ]
  },
  {
   "cell_type": "code",
   "execution_count": 6,
   "id": "85231ea6",
   "metadata": {},
   "outputs": [
    {
     "data": {
      "text/plain": [
       "LinearRegression()"
      ]
     },
     "execution_count": 6,
     "metadata": {},
     "output_type": "execute_result"
    }
   ],
   "source": [
    "#train our model.\n",
    "#if we have 4,6 coulmns or lower data , we can also train our model in this way ,not train test split\n",
    "model.fit(s_sales[['Store_Area','Items_Available','Daily_Customer_Count']],s_sales.Store_Sales)"
   ]
  },
  {
   "cell_type": "code",
   "execution_count": 7,
   "id": "c8adebea",
   "metadata": {},
   "outputs": [
    {
     "data": {
      "text/plain": [
       "array([-39.03556986,  38.23415464,   0.8046133 ])"
      ]
     },
     "execution_count": 7,
     "metadata": {},
     "output_type": "execute_result"
    }
   ],
   "source": [
    "#m1,m2,m3 coef\n",
    "model.coef_\n"
   ]
  },
  {
   "cell_type": "code",
   "execution_count": 8,
   "id": "6b4dd7b6",
   "metadata": {},
   "outputs": [
    {
     "data": {
      "text/plain": [
       "48567.77884482472"
      ]
     },
     "execution_count": 8,
     "metadata": {},
     "output_type": "execute_result"
    }
   ],
   "source": [
    "#b\n",
    "model.intercept_"
   ]
  },
  {
   "cell_type": "code",
   "execution_count": 9,
   "id": "3a4c90ea",
   "metadata": {},
   "outputs": [
    {
     "data": {
      "text/plain": [
       "array([48567.77884482])"
      ]
     },
     "execution_count": 9,
     "metadata": {},
     "output_type": "execute_result"
    }
   ],
   "source": [
    "# now predict the store sales \n",
    "model.predict([['store area'==2000,'items available'==1800,'daily customers count'==500]])"
   ]
  },
  {
   "cell_type": "code",
   "execution_count": 10,
   "id": "b7cb1638",
   "metadata": {},
   "outputs": [],
   "source": [
    "#above we will get sale 48567.77, more you can predict"
   ]
  },
  {
   "cell_type": "code",
   "execution_count": 14,
   "id": "85dafe61",
   "metadata": {},
   "outputs": [],
   "source": [
    "#mean absolute  error\n",
    "# agr negative b value ajaye tu tab b plus aye ga.\n",
    "from sklearn.metrics import mean_absolute_error"
   ]
  }
 ],
 "metadata": {
  "kernelspec": {
   "display_name": "Python 3 (ipykernel)",
   "language": "python",
   "name": "python3"
  },
  "language_info": {
   "codemirror_mode": {
    "name": "ipython",
    "version": 3
   },
   "file_extension": ".py",
   "mimetype": "text/x-python",
   "name": "python",
   "nbconvert_exporter": "python",
   "pygments_lexer": "ipython3",
   "version": "3.9.7"
  }
 },
 "nbformat": 4,
 "nbformat_minor": 5
}
